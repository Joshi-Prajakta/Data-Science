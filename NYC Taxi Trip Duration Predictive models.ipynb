{
 "cells": [
  {
   "cell_type": "markdown",
   "id": "75d5ff95",
   "metadata": {},
   "source": [
    "---\n",
    "\n",
    " ## <font color=red>Project:</font>   \n",
    "---\n",
    "<center><h1><font color=green>NYC Taxi Trip Duration: Predictive models </h1></center>\n",
    "\n",
    "\n",
    "---"
   ]
  },
  {
   "cell_type": "markdown",
   "id": "fc5973c1",
   "metadata": {},
   "source": [
    "---\n",
    "###  <font color=indigo>Task 1:</font>   \n",
    "---\n",
    "## Most suitable evaluation metric: RMSLE\n",
    "\n",
    "* From EDA of this data, it is clear that it contains large number of outliers. \n",
    "* Root Mean Squared Log Error (RMSLE) drastically scales down the outliers, therefore nullifies their effect. \n",
    "* This is not possible in case of Root Mean Square  Error (RMSE) which is commonly used metric for regressive problems. In case of RMSE, the presence of outliers can explode the error term to a very high value. \n",
    "* Hence, to minimize the effect of outliers, I have used RMSLE as the evaluation metrics.\n",
    "\n",
    "---"
   ]
  },
  {
   "cell_type": "markdown",
   "id": "3568fea1",
   "metadata": {},
   "source": [
    "* ### Importing Libraries"
   ]
  },
  {
   "cell_type": "code",
   "execution_count": 1,
   "id": "1754ccc2",
   "metadata": {},
   "outputs": [],
   "source": [
    "# Importing the required libraries \n",
    "%matplotlib inline\n",
    "import numpy as np\n",
    "import pandas as pd\n",
    "from datetime import timedelta\n",
    "import datetime as dt\n",
    "import matplotlib.pyplot as plt\n",
    "import seaborn as sns\n",
    "from sklearn.metrics import mean_squared_log_error as msle\n",
    "from math import sqrt\n",
    "from sklearn.model_selection import train_test_split\n",
    "import warnings\n",
    "warnings.filterwarnings('ignore')"
   ]
  },
  {
   "cell_type": "markdown",
   "id": "ff673510",
   "metadata": {},
   "source": [
    "* ### Load the data"
   ]
  },
  {
   "cell_type": "code",
   "execution_count": 2,
   "id": "56245c14",
   "metadata": {},
   "outputs": [
    {
     "data": {
      "text/html": [
       "<div>\n",
       "<style scoped>\n",
       "    .dataframe tbody tr th:only-of-type {\n",
       "        vertical-align: middle;\n",
       "    }\n",
       "\n",
       "    .dataframe tbody tr th {\n",
       "        vertical-align: top;\n",
       "    }\n",
       "\n",
       "    .dataframe thead th {\n",
       "        text-align: right;\n",
       "    }\n",
       "</style>\n",
       "<table border=\"1\" class=\"dataframe\">\n",
       "  <thead>\n",
       "    <tr style=\"text-align: right;\">\n",
       "      <th></th>\n",
       "      <th>id</th>\n",
       "      <th>vendor_id</th>\n",
       "      <th>pickup_datetime</th>\n",
       "      <th>dropoff_datetime</th>\n",
       "      <th>passenger_count</th>\n",
       "      <th>pickup_longitude</th>\n",
       "      <th>pickup_latitude</th>\n",
       "      <th>dropoff_longitude</th>\n",
       "      <th>dropoff_latitude</th>\n",
       "      <th>store_and_fwd_flag</th>\n",
       "      <th>trip_duration</th>\n",
       "    </tr>\n",
       "  </thead>\n",
       "  <tbody>\n",
       "    <tr>\n",
       "      <th>0</th>\n",
       "      <td>id1080784</td>\n",
       "      <td>2</td>\n",
       "      <td>2016-02-29 16:40:21</td>\n",
       "      <td>2016-02-29 16:47:01</td>\n",
       "      <td>1</td>\n",
       "      <td>-73.953918</td>\n",
       "      <td>40.778873</td>\n",
       "      <td>-73.963875</td>\n",
       "      <td>40.771164</td>\n",
       "      <td>N</td>\n",
       "      <td>400</td>\n",
       "    </tr>\n",
       "    <tr>\n",
       "      <th>1</th>\n",
       "      <td>id0889885</td>\n",
       "      <td>1</td>\n",
       "      <td>2016-03-11 23:35:37</td>\n",
       "      <td>2016-03-11 23:53:57</td>\n",
       "      <td>2</td>\n",
       "      <td>-73.988312</td>\n",
       "      <td>40.731743</td>\n",
       "      <td>-73.994751</td>\n",
       "      <td>40.694931</td>\n",
       "      <td>N</td>\n",
       "      <td>1100</td>\n",
       "    </tr>\n",
       "    <tr>\n",
       "      <th>2</th>\n",
       "      <td>id0857912</td>\n",
       "      <td>2</td>\n",
       "      <td>2016-02-21 17:59:33</td>\n",
       "      <td>2016-02-21 18:26:48</td>\n",
       "      <td>2</td>\n",
       "      <td>-73.997314</td>\n",
       "      <td>40.721458</td>\n",
       "      <td>-73.948029</td>\n",
       "      <td>40.774918</td>\n",
       "      <td>N</td>\n",
       "      <td>1635</td>\n",
       "    </tr>\n",
       "    <tr>\n",
       "      <th>3</th>\n",
       "      <td>id3744273</td>\n",
       "      <td>2</td>\n",
       "      <td>2016-01-05 09:44:31</td>\n",
       "      <td>2016-01-05 10:03:32</td>\n",
       "      <td>6</td>\n",
       "      <td>-73.961670</td>\n",
       "      <td>40.759720</td>\n",
       "      <td>-73.956779</td>\n",
       "      <td>40.780628</td>\n",
       "      <td>N</td>\n",
       "      <td>1141</td>\n",
       "    </tr>\n",
       "    <tr>\n",
       "      <th>4</th>\n",
       "      <td>id0232939</td>\n",
       "      <td>1</td>\n",
       "      <td>2016-02-17 06:42:23</td>\n",
       "      <td>2016-02-17 06:56:31</td>\n",
       "      <td>1</td>\n",
       "      <td>-74.017120</td>\n",
       "      <td>40.708469</td>\n",
       "      <td>-73.988182</td>\n",
       "      <td>40.740631</td>\n",
       "      <td>N</td>\n",
       "      <td>848</td>\n",
       "    </tr>\n",
       "  </tbody>\n",
       "</table>\n",
       "</div>"
      ],
      "text/plain": [
       "          id  vendor_id      pickup_datetime     dropoff_datetime  \\\n",
       "0  id1080784          2  2016-02-29 16:40:21  2016-02-29 16:47:01   \n",
       "1  id0889885          1  2016-03-11 23:35:37  2016-03-11 23:53:57   \n",
       "2  id0857912          2  2016-02-21 17:59:33  2016-02-21 18:26:48   \n",
       "3  id3744273          2  2016-01-05 09:44:31  2016-01-05 10:03:32   \n",
       "4  id0232939          1  2016-02-17 06:42:23  2016-02-17 06:56:31   \n",
       "\n",
       "   passenger_count  pickup_longitude  pickup_latitude  dropoff_longitude  \\\n",
       "0                1        -73.953918        40.778873         -73.963875   \n",
       "1                2        -73.988312        40.731743         -73.994751   \n",
       "2                2        -73.997314        40.721458         -73.948029   \n",
       "3                6        -73.961670        40.759720         -73.956779   \n",
       "4                1        -74.017120        40.708469         -73.988182   \n",
       "\n",
       "   dropoff_latitude store_and_fwd_flag  trip_duration  \n",
       "0         40.771164                  N            400  \n",
       "1         40.694931                  N           1100  \n",
       "2         40.774918                  N           1635  \n",
       "3         40.780628                  N           1141  \n",
       "4         40.740631                  N            848  "
      ]
     },
     "execution_count": 2,
     "metadata": {},
     "output_type": "execute_result"
    }
   ],
   "source": [
    "# Importing Data\n",
    "df = pd.read_csv(\"D:/DATASCIENCE/Machine Learning/Linear Models/Resources-NYC Taxi Trip Project/nyc_taxi_trip_duration.csv\")\n",
    "df.head()"
   ]
  },
  {
   "cell_type": "code",
   "execution_count": 3,
   "id": "3b1665ec",
   "metadata": {},
   "outputs": [],
   "source": [
    "# Converting strings to datetime features\n",
    "df['pickup_datetime'] = pd.to_datetime(df.pickup_datetime)\n",
    "df['dropoff_datetime'] = pd.to_datetime(df.dropoff_datetime)"
   ]
  },
  {
   "cell_type": "code",
   "execution_count": 4,
   "id": "beb386b0",
   "metadata": {},
   "outputs": [],
   "source": [
    "df['day_of_week'] = df['pickup_datetime'].dt.weekday\n",
    "df['hour_of_day'] = df['pickup_datetime'].dt.hour"
   ]
  },
  {
   "cell_type": "markdown",
   "id": "9246dfcf",
   "metadata": {},
   "source": [
    "Here, we have  variables dropoff_datetime and store_and_fwd_flag which are not available before the trip starts and hence will not be used as features to the model."
   ]
  },
  {
   "cell_type": "code",
   "execution_count": 5,
   "id": "93c9ffa9",
   "metadata": {},
   "outputs": [],
   "source": [
    "df=df.drop(['id','store_and_fwd_flag','dropoff_datetime'],axis=1)"
   ]
  },
  {
   "cell_type": "markdown",
   "id": "2eecd2b4",
   "metadata": {},
   "source": [
    "From EDA of this data, pickup_latitude, passenger_count, trip_duration contains outliers."
   ]
  },
  {
   "cell_type": "markdown",
   "id": "fee82526",
   "metadata": {},
   "source": [
    "* ### Removing Outliers"
   ]
  },
  {
   "cell_type": "code",
   "execution_count": 6,
   "id": "091eb12b",
   "metadata": {},
   "outputs": [],
   "source": [
    "df = df.loc[(df.pickup_latitude > 40.6) & (df.pickup_latitude < 40.9)]\n",
    "df = df.loc[(df.dropoff_latitude>40.6) & (df.dropoff_latitude < 40.9)]\n",
    "df = df.loc[(df.dropoff_longitude > -74.05) & (df.dropoff_longitude < -73.7)]\n",
    "df = df.loc[(df.pickup_longitude > -74.05) & (df.pickup_longitude < -73.7)]"
   ]
  },
  {
   "cell_type": "code",
   "execution_count": 7,
   "id": "fa656606",
   "metadata": {},
   "outputs": [],
   "source": [
    "df = df.loc[~(df['passenger_count'] == 0)]\n",
    "df = df.loc[~(df['passenger_count'] == 7)]\n",
    "df = df.loc[~(df['passenger_count'] == 9)]"
   ]
  },
  {
   "cell_type": "code",
   "execution_count": 8,
   "id": "cb745061",
   "metadata": {},
   "outputs": [],
   "source": [
    "df = df.loc[(df.trip_duration > 40.6) & (df.trip_duration < 11*3600)]"
   ]
  },
  {
   "cell_type": "code",
   "execution_count": 9,
   "id": "fe4e0a37",
   "metadata": {},
   "outputs": [
    {
     "data": {
      "text/html": [
       "<div>\n",
       "<style scoped>\n",
       "    .dataframe tbody tr th:only-of-type {\n",
       "        vertical-align: middle;\n",
       "    }\n",
       "\n",
       "    .dataframe tbody tr th {\n",
       "        vertical-align: top;\n",
       "    }\n",
       "\n",
       "    .dataframe thead th {\n",
       "        text-align: right;\n",
       "    }\n",
       "</style>\n",
       "<table border=\"1\" class=\"dataframe\">\n",
       "  <thead>\n",
       "    <tr style=\"text-align: right;\">\n",
       "      <th></th>\n",
       "      <th>vendor_id</th>\n",
       "      <th>pickup_datetime</th>\n",
       "      <th>passenger_count</th>\n",
       "      <th>pickup_longitude</th>\n",
       "      <th>pickup_latitude</th>\n",
       "      <th>dropoff_longitude</th>\n",
       "      <th>dropoff_latitude</th>\n",
       "      <th>trip_duration</th>\n",
       "      <th>day_of_week</th>\n",
       "      <th>hour_of_day</th>\n",
       "    </tr>\n",
       "  </thead>\n",
       "  <tbody>\n",
       "    <tr>\n",
       "      <th>0</th>\n",
       "      <td>2</td>\n",
       "      <td>2016-02-29 16:40:21</td>\n",
       "      <td>1</td>\n",
       "      <td>-73.953918</td>\n",
       "      <td>40.778873</td>\n",
       "      <td>-73.963875</td>\n",
       "      <td>40.771164</td>\n",
       "      <td>400</td>\n",
       "      <td>0</td>\n",
       "      <td>16</td>\n",
       "    </tr>\n",
       "    <tr>\n",
       "      <th>1</th>\n",
       "      <td>1</td>\n",
       "      <td>2016-03-11 23:35:37</td>\n",
       "      <td>2</td>\n",
       "      <td>-73.988312</td>\n",
       "      <td>40.731743</td>\n",
       "      <td>-73.994751</td>\n",
       "      <td>40.694931</td>\n",
       "      <td>1100</td>\n",
       "      <td>4</td>\n",
       "      <td>23</td>\n",
       "    </tr>\n",
       "    <tr>\n",
       "      <th>2</th>\n",
       "      <td>2</td>\n",
       "      <td>2016-02-21 17:59:33</td>\n",
       "      <td>2</td>\n",
       "      <td>-73.997314</td>\n",
       "      <td>40.721458</td>\n",
       "      <td>-73.948029</td>\n",
       "      <td>40.774918</td>\n",
       "      <td>1635</td>\n",
       "      <td>6</td>\n",
       "      <td>17</td>\n",
       "    </tr>\n",
       "    <tr>\n",
       "      <th>3</th>\n",
       "      <td>2</td>\n",
       "      <td>2016-01-05 09:44:31</td>\n",
       "      <td>6</td>\n",
       "      <td>-73.961670</td>\n",
       "      <td>40.759720</td>\n",
       "      <td>-73.956779</td>\n",
       "      <td>40.780628</td>\n",
       "      <td>1141</td>\n",
       "      <td>1</td>\n",
       "      <td>9</td>\n",
       "    </tr>\n",
       "    <tr>\n",
       "      <th>4</th>\n",
       "      <td>1</td>\n",
       "      <td>2016-02-17 06:42:23</td>\n",
       "      <td>1</td>\n",
       "      <td>-74.017120</td>\n",
       "      <td>40.708469</td>\n",
       "      <td>-73.988182</td>\n",
       "      <td>40.740631</td>\n",
       "      <td>848</td>\n",
       "      <td>2</td>\n",
       "      <td>6</td>\n",
       "    </tr>\n",
       "  </tbody>\n",
       "</table>\n",
       "</div>"
      ],
      "text/plain": [
       "   vendor_id     pickup_datetime  passenger_count  pickup_longitude  \\\n",
       "0          2 2016-02-29 16:40:21                1        -73.953918   \n",
       "1          1 2016-03-11 23:35:37                2        -73.988312   \n",
       "2          2 2016-02-21 17:59:33                2        -73.997314   \n",
       "3          2 2016-01-05 09:44:31                6        -73.961670   \n",
       "4          1 2016-02-17 06:42:23                1        -74.017120   \n",
       "\n",
       "   pickup_latitude  dropoff_longitude  dropoff_latitude  trip_duration  \\\n",
       "0        40.778873         -73.963875         40.771164            400   \n",
       "1        40.731743         -73.994751         40.694931           1100   \n",
       "2        40.721458         -73.948029         40.774918           1635   \n",
       "3        40.759720         -73.956779         40.780628           1141   \n",
       "4        40.708469         -73.988182         40.740631            848   \n",
       "\n",
       "   day_of_week  hour_of_day  \n",
       "0            0           16  \n",
       "1            4           23  \n",
       "2            6           17  \n",
       "3            1            9  \n",
       "4            2            6  "
      ]
     },
     "execution_count": 9,
     "metadata": {},
     "output_type": "execute_result"
    }
   ],
   "source": [
    "df.head()"
   ]
  },
  {
   "cell_type": "code",
   "execution_count": 10,
   "id": "0a506fa2",
   "metadata": {},
   "outputs": [],
   "source": [
    "def time_of_day(x):\n",
    "    # to calculate what time of it is now\n",
    "    if x in range(6,12):\n",
    "        return 'Morning'\n",
    "    elif x in range(12,16):\n",
    "        return 'Afternoon'\n",
    "    elif x in range(16,22):\n",
    "        return 'Evening'\n",
    "    else:\n",
    "        return 'Late night'\n",
    "\n",
    "df['pickup_time_of_day'] = df['hour_of_day'].apply(time_of_day)"
   ]
  },
  {
   "cell_type": "code",
   "execution_count": 11,
   "id": "1efc27d8",
   "metadata": {},
   "outputs": [],
   "source": [
    "def passenger(x):\n",
    "    if x['passenger_count'] < 1:\n",
    "        val='None'\n",
    "    elif x['passenger_count'] < 2:\n",
    "        val= 'single'\n",
    "    elif x['passenger_count'] < 5:\n",
    "        val= 'small'\n",
    "    else:\n",
    "        val= 'Large'\n",
    "    return val\n",
    "df['Passenger_gruop']=df.apply(passenger,axis=1)"
   ]
  },
  {
   "cell_type": "code",
   "execution_count": 12,
   "id": "50e77246",
   "metadata": {},
   "outputs": [],
   "source": [
    "# Sampling data\n",
    "sample_data = df.sample(10000, random_state=1)"
   ]
  },
  {
   "cell_type": "code",
   "execution_count": 13,
   "id": "50162653",
   "metadata": {},
   "outputs": [
    {
     "name": "stdout",
     "output_type": "stream",
     "text": [
      "We have 10000 rows.\n",
      "We have 12 columns\n"
     ]
    },
    {
     "data": {
      "text/plain": [
       "vendor_id                               1\n",
       "pickup_datetime       2016-06-13 05:14:59\n",
       "passenger_count                         1\n",
       "pickup_longitude               -74.014549\n",
       "pickup_latitude                 40.717999\n",
       "dropoff_longitude                -73.9804\n",
       "dropoff_latitude                40.751541\n",
       "trip_duration                         836\n",
       "day_of_week                             0\n",
       "hour_of_day                             5\n",
       "pickup_time_of_day             Late night\n",
       "Passenger_gruop                    single\n",
       "Name: 331951, dtype: object"
      ]
     },
     "execution_count": 13,
     "metadata": {},
     "output_type": "execute_result"
    }
   ],
   "source": [
    "# File structure and content\n",
    "print('We have {} rows.'.format(sample_data.shape[0]))\n",
    "print('We have {} columns'.format(sample_data.shape[1]))\n",
    "sample_data.iloc[1,:]"
   ]
  },
  {
   "cell_type": "code",
   "execution_count": 14,
   "id": "87da4351",
   "metadata": {},
   "outputs": [
    {
     "data": {
      "text/plain": [
       "vendor_id             0\n",
       "pickup_datetime       0\n",
       "passenger_count       0\n",
       "pickup_longitude      0\n",
       "pickup_latitude       0\n",
       "dropoff_longitude     0\n",
       "dropoff_latitude      0\n",
       "trip_duration         0\n",
       "day_of_week           0\n",
       "hour_of_day           0\n",
       "pickup_time_of_day    0\n",
       "Passenger_gruop       0\n",
       "dtype: int64"
      ]
     },
     "execution_count": 14,
     "metadata": {},
     "output_type": "execute_result"
    }
   ],
   "source": [
    "# Missing Values\n",
    "sample_data.isnull().sum()"
   ]
  },
  {
   "cell_type": "markdown",
   "id": "05d89c62",
   "metadata": {},
   "source": [
    "---\n",
    "###  <font color=indigo>Task 2:</font>   \n",
    "---\n",
    "# Benchmark Model:\n"
   ]
  },
  {
   "cell_type": "markdown",
   "id": "cc728dfb",
   "metadata": {},
   "source": [
    "* ### Shuffling and Creating Train and Test Set"
   ]
  },
  {
   "cell_type": "code",
   "execution_count": 15,
   "id": "309adb39",
   "metadata": {},
   "outputs": [],
   "source": [
    "# importing the shuffle library \n",
    "from sklearn.utils import shuffle\n",
    "\n",
    "# Shuffling the Dataset\n",
    "df = shuffle(df, random_state = 42)\n",
    "\n",
    "# creating 4 divisions\n",
    "div = int(df.shape[0]/4)\n",
    "\n",
    "# 3 parts to train set and 1 part to test set\n",
    "train = df.loc[:3*div+1,:]\n",
    "test = df.loc[3*div+1:]"
   ]
  },
  {
   "cell_type": "code",
   "execution_count": 16,
   "id": "7c86caae",
   "metadata": {},
   "outputs": [
    {
     "data": {
      "text/html": [
       "<div>\n",
       "<style scoped>\n",
       "    .dataframe tbody tr th:only-of-type {\n",
       "        vertical-align: middle;\n",
       "    }\n",
       "\n",
       "    .dataframe tbody tr th {\n",
       "        vertical-align: top;\n",
       "    }\n",
       "\n",
       "    .dataframe thead th {\n",
       "        text-align: right;\n",
       "    }\n",
       "</style>\n",
       "<table border=\"1\" class=\"dataframe\">\n",
       "  <thead>\n",
       "    <tr style=\"text-align: right;\">\n",
       "      <th></th>\n",
       "      <th>vendor_id</th>\n",
       "      <th>pickup_datetime</th>\n",
       "      <th>passenger_count</th>\n",
       "      <th>pickup_longitude</th>\n",
       "      <th>pickup_latitude</th>\n",
       "      <th>dropoff_longitude</th>\n",
       "      <th>dropoff_latitude</th>\n",
       "      <th>trip_duration</th>\n",
       "      <th>day_of_week</th>\n",
       "      <th>hour_of_day</th>\n",
       "      <th>pickup_time_of_day</th>\n",
       "      <th>Passenger_gruop</th>\n",
       "    </tr>\n",
       "  </thead>\n",
       "  <tbody>\n",
       "    <tr>\n",
       "      <th>180914</th>\n",
       "      <td>1</td>\n",
       "      <td>2016-06-02 06:29:09</td>\n",
       "      <td>1</td>\n",
       "      <td>-73.988068</td>\n",
       "      <td>40.737637</td>\n",
       "      <td>-74.005783</td>\n",
       "      <td>40.745190</td>\n",
       "      <td>246</td>\n",
       "      <td>3</td>\n",
       "      <td>6</td>\n",
       "      <td>Morning</td>\n",
       "      <td>single</td>\n",
       "    </tr>\n",
       "    <tr>\n",
       "      <th>291564</th>\n",
       "      <td>2</td>\n",
       "      <td>2016-03-18 17:36:21</td>\n",
       "      <td>1</td>\n",
       "      <td>-73.992188</td>\n",
       "      <td>40.738022</td>\n",
       "      <td>-74.002289</td>\n",
       "      <td>40.735050</td>\n",
       "      <td>200</td>\n",
       "      <td>4</td>\n",
       "      <td>17</td>\n",
       "      <td>Evening</td>\n",
       "      <td>single</td>\n",
       "    </tr>\n",
       "    <tr>\n",
       "      <th>589504</th>\n",
       "      <td>2</td>\n",
       "      <td>2016-04-21 05:55:49</td>\n",
       "      <td>5</td>\n",
       "      <td>-74.008499</td>\n",
       "      <td>40.719994</td>\n",
       "      <td>-73.986542</td>\n",
       "      <td>40.722221</td>\n",
       "      <td>507</td>\n",
       "      <td>3</td>\n",
       "      <td>5</td>\n",
       "      <td>Late night</td>\n",
       "      <td>Large</td>\n",
       "    </tr>\n",
       "    <tr>\n",
       "      <th>51572</th>\n",
       "      <td>2</td>\n",
       "      <td>2016-04-10 21:01:51</td>\n",
       "      <td>1</td>\n",
       "      <td>-73.969833</td>\n",
       "      <td>40.768692</td>\n",
       "      <td>-73.982384</td>\n",
       "      <td>40.777184</td>\n",
       "      <td>282</td>\n",
       "      <td>6</td>\n",
       "      <td>21</td>\n",
       "      <td>Evening</td>\n",
       "      <td>single</td>\n",
       "    </tr>\n",
       "    <tr>\n",
       "      <th>74312</th>\n",
       "      <td>1</td>\n",
       "      <td>2016-03-05 23:38:34</td>\n",
       "      <td>1</td>\n",
       "      <td>-73.993874</td>\n",
       "      <td>40.746735</td>\n",
       "      <td>-73.988106</td>\n",
       "      <td>40.728806</td>\n",
       "      <td>670</td>\n",
       "      <td>5</td>\n",
       "      <td>23</td>\n",
       "      <td>Late night</td>\n",
       "      <td>single</td>\n",
       "    </tr>\n",
       "  </tbody>\n",
       "</table>\n",
       "</div>"
      ],
      "text/plain": [
       "        vendor_id     pickup_datetime  passenger_count  pickup_longitude  \\\n",
       "180914          1 2016-06-02 06:29:09                1        -73.988068   \n",
       "291564          2 2016-03-18 17:36:21                1        -73.992188   \n",
       "589504          2 2016-04-21 05:55:49                5        -74.008499   \n",
       "51572           2 2016-04-10 21:01:51                1        -73.969833   \n",
       "74312           1 2016-03-05 23:38:34                1        -73.993874   \n",
       "\n",
       "        pickup_latitude  dropoff_longitude  dropoff_latitude  trip_duration  \\\n",
       "180914        40.737637         -74.005783         40.745190            246   \n",
       "291564        40.738022         -74.002289         40.735050            200   \n",
       "589504        40.719994         -73.986542         40.722221            507   \n",
       "51572         40.768692         -73.982384         40.777184            282   \n",
       "74312         40.746735         -73.988106         40.728806            670   \n",
       "\n",
       "        day_of_week  hour_of_day pickup_time_of_day Passenger_gruop  \n",
       "180914            3            6            Morning          single  \n",
       "291564            4           17            Evening          single  \n",
       "589504            3            5         Late night           Large  \n",
       "51572             6           21            Evening          single  \n",
       "74312             5           23         Late night          single  "
      ]
     },
     "execution_count": 16,
     "metadata": {},
     "output_type": "execute_result"
    }
   ],
   "source": [
    "train.head()"
   ]
  },
  {
   "cell_type": "code",
   "execution_count": 17,
   "id": "4668bbcb",
   "metadata": {},
   "outputs": [
    {
     "data": {
      "text/html": [
       "<div>\n",
       "<style scoped>\n",
       "    .dataframe tbody tr th:only-of-type {\n",
       "        vertical-align: middle;\n",
       "    }\n",
       "\n",
       "    .dataframe tbody tr th {\n",
       "        vertical-align: top;\n",
       "    }\n",
       "\n",
       "    .dataframe thead th {\n",
       "        text-align: right;\n",
       "    }\n",
       "</style>\n",
       "<table border=\"1\" class=\"dataframe\">\n",
       "  <thead>\n",
       "    <tr style=\"text-align: right;\">\n",
       "      <th></th>\n",
       "      <th>vendor_id</th>\n",
       "      <th>pickup_datetime</th>\n",
       "      <th>passenger_count</th>\n",
       "      <th>pickup_longitude</th>\n",
       "      <th>pickup_latitude</th>\n",
       "      <th>dropoff_longitude</th>\n",
       "      <th>dropoff_latitude</th>\n",
       "      <th>trip_duration</th>\n",
       "      <th>day_of_week</th>\n",
       "      <th>hour_of_day</th>\n",
       "      <th>pickup_time_of_day</th>\n",
       "      <th>Passenger_gruop</th>\n",
       "    </tr>\n",
       "  </thead>\n",
       "  <tbody>\n",
       "    <tr>\n",
       "      <th>541735</th>\n",
       "      <td>1</td>\n",
       "      <td>2016-05-27 07:32:16</td>\n",
       "      <td>2</td>\n",
       "      <td>-73.980774</td>\n",
       "      <td>40.748493</td>\n",
       "      <td>-73.987335</td>\n",
       "      <td>40.752846</td>\n",
       "      <td>270</td>\n",
       "      <td>4</td>\n",
       "      <td>7</td>\n",
       "      <td>Morning</td>\n",
       "      <td>small</td>\n",
       "    </tr>\n",
       "    <tr>\n",
       "      <th>550742</th>\n",
       "      <td>2</td>\n",
       "      <td>2016-04-21 08:23:18</td>\n",
       "      <td>6</td>\n",
       "      <td>-74.011299</td>\n",
       "      <td>40.702942</td>\n",
       "      <td>-74.011864</td>\n",
       "      <td>40.702850</td>\n",
       "      <td>176</td>\n",
       "      <td>3</td>\n",
       "      <td>8</td>\n",
       "      <td>Morning</td>\n",
       "      <td>Large</td>\n",
       "    </tr>\n",
       "    <tr>\n",
       "      <th>542548</th>\n",
       "      <td>1</td>\n",
       "      <td>2016-06-16 09:25:47</td>\n",
       "      <td>1</td>\n",
       "      <td>-73.938393</td>\n",
       "      <td>40.827888</td>\n",
       "      <td>-73.938995</td>\n",
       "      <td>40.834633</td>\n",
       "      <td>994</td>\n",
       "      <td>3</td>\n",
       "      <td>9</td>\n",
       "      <td>Morning</td>\n",
       "      <td>single</td>\n",
       "    </tr>\n",
       "    <tr>\n",
       "      <th>681436</th>\n",
       "      <td>1</td>\n",
       "      <td>2016-01-23 13:59:54</td>\n",
       "      <td>1</td>\n",
       "      <td>-73.995995</td>\n",
       "      <td>40.724556</td>\n",
       "      <td>-74.007874</td>\n",
       "      <td>40.705006</td>\n",
       "      <td>945</td>\n",
       "      <td>5</td>\n",
       "      <td>13</td>\n",
       "      <td>Afternoon</td>\n",
       "      <td>single</td>\n",
       "    </tr>\n",
       "    <tr>\n",
       "      <th>463193</th>\n",
       "      <td>2</td>\n",
       "      <td>2016-03-01 07:23:41</td>\n",
       "      <td>1</td>\n",
       "      <td>-73.962120</td>\n",
       "      <td>40.767738</td>\n",
       "      <td>-73.987457</td>\n",
       "      <td>40.738251</td>\n",
       "      <td>782</td>\n",
       "      <td>1</td>\n",
       "      <td>7</td>\n",
       "      <td>Morning</td>\n",
       "      <td>single</td>\n",
       "    </tr>\n",
       "  </tbody>\n",
       "</table>\n",
       "</div>"
      ],
      "text/plain": [
       "        vendor_id     pickup_datetime  passenger_count  pickup_longitude  \\\n",
       "541735          1 2016-05-27 07:32:16                2        -73.980774   \n",
       "550742          2 2016-04-21 08:23:18                6        -74.011299   \n",
       "542548          1 2016-06-16 09:25:47                1        -73.938393   \n",
       "681436          1 2016-01-23 13:59:54                1        -73.995995   \n",
       "463193          2 2016-03-01 07:23:41                1        -73.962120   \n",
       "\n",
       "        pickup_latitude  dropoff_longitude  dropoff_latitude  trip_duration  \\\n",
       "541735        40.748493         -73.987335         40.752846            270   \n",
       "550742        40.702942         -74.011864         40.702850            176   \n",
       "542548        40.827888         -73.938995         40.834633            994   \n",
       "681436        40.724556         -74.007874         40.705006            945   \n",
       "463193        40.767738         -73.987457         40.738251            782   \n",
       "\n",
       "        day_of_week  hour_of_day pickup_time_of_day Passenger_gruop  \n",
       "541735            4            7            Morning           small  \n",
       "550742            3            8            Morning           Large  \n",
       "542548            3            9            Morning          single  \n",
       "681436            5           13          Afternoon          single  \n",
       "463193            1            7            Morning          single  "
      ]
     },
     "execution_count": 17,
     "metadata": {},
     "output_type": "execute_result"
    }
   ],
   "source": [
    "test.head()"
   ]
  },
  {
   "cell_type": "markdown",
   "id": "dca681ee",
   "metadata": {},
   "source": [
    "* ### Simple Mean ( mean of Trip duration)"
   ]
  },
  {
   "cell_type": "code",
   "execution_count": 18,
   "id": "84e1b4f0",
   "metadata": {},
   "outputs": [],
   "source": [
    "# storing simple mean in a new column in the test set as \"simple_mean\"\n",
    "test['simple_mean'] = train['trip_duration'].mean()"
   ]
  },
  {
   "cell_type": "code",
   "execution_count": 19,
   "id": "fb3deadd",
   "metadata": {},
   "outputs": [
    {
     "data": {
      "text/plain": [
       "0.7740223907097"
      ]
     },
     "execution_count": 19,
     "metadata": {},
     "output_type": "execute_result"
    }
   ],
   "source": [
    "# calculating RMSLE\n",
    "trip_mean_error = sqrt((msle(test['trip_duration'] , test['simple_mean'])))\n",
    "trip_mean_error"
   ]
  },
  {
   "cell_type": "markdown",
   "id": "28cf985f",
   "metadata": {},
   "source": [
    "* ### Trip duration with respect to pickup time of day"
   ]
  },
  {
   "cell_type": "code",
   "execution_count": 20,
   "id": "96cc2367",
   "metadata": {},
   "outputs": [
    {
     "data": {
      "text/html": [
       "<div>\n",
       "<style scoped>\n",
       "    .dataframe tbody tr th:only-of-type {\n",
       "        vertical-align: middle;\n",
       "    }\n",
       "\n",
       "    .dataframe tbody tr th {\n",
       "        vertical-align: top;\n",
       "    }\n",
       "\n",
       "    .dataframe thead th {\n",
       "        text-align: right;\n",
       "    }\n",
       "</style>\n",
       "<table border=\"1\" class=\"dataframe\">\n",
       "  <thead>\n",
       "    <tr style=\"text-align: right;\">\n",
       "      <th></th>\n",
       "      <th>trip_duration</th>\n",
       "    </tr>\n",
       "    <tr>\n",
       "      <th>pickup_time_of_day</th>\n",
       "      <th></th>\n",
       "    </tr>\n",
       "  </thead>\n",
       "  <tbody>\n",
       "    <tr>\n",
       "      <th>Afternoon</th>\n",
       "      <td>924.263886</td>\n",
       "    </tr>\n",
       "    <tr>\n",
       "      <th>Evening</th>\n",
       "      <td>842.250711</td>\n",
       "    </tr>\n",
       "    <tr>\n",
       "      <th>Late night</th>\n",
       "      <td>769.213739</td>\n",
       "    </tr>\n",
       "    <tr>\n",
       "      <th>Morning</th>\n",
       "      <td>817.258524</td>\n",
       "    </tr>\n",
       "  </tbody>\n",
       "</table>\n",
       "</div>"
      ],
      "text/plain": [
       "                    trip_duration\n",
       "pickup_time_of_day               \n",
       "Afternoon              924.263886\n",
       "Evening                842.250711\n",
       "Late night             769.213739\n",
       "Morning                817.258524"
      ]
     },
     "execution_count": 20,
     "metadata": {},
     "output_type": "execute_result"
    }
   ],
   "source": [
    "# trip duration mean with respect to the mean of pickup time of the day\n",
    "pickup_time = pd.pivot_table(train, values='trip_duration', index = ['pickup_time_of_day'], aggfunc=np.mean)\n",
    "pickup_time"
   ]
  },
  {
   "cell_type": "code",
   "execution_count": 21,
   "id": "83bc6c6c",
   "metadata": {},
   "outputs": [],
   "source": [
    "# initializing new column to zero\n",
    "test['pickup_time'] = 0\n",
    "\n",
    "# For every unique entry in pickup time of day\n",
    "for i in train['pickup_time_of_day'].unique():\n",
    "  # Assign the mean value corresponding to unique entry\n",
    "  test['pickup_time'][test['pickup_time_of_day'] == str(i)] = train['trip_duration'][train['pickup_time_of_day'] == str(i)].mean()"
   ]
  },
  {
   "cell_type": "code",
   "execution_count": 22,
   "id": "31803af1",
   "metadata": {},
   "outputs": [
    {
     "data": {
      "text/plain": [
       "0.7724335000616009"
      ]
     },
     "execution_count": 22,
     "metadata": {},
     "output_type": "execute_result"
    }
   ],
   "source": [
    "# calculating RMSLE\n",
    "pickup_time_error = sqrt(msle(test['trip_duration'] , test['pickup_time'] ))\n",
    "pickup_time_error"
   ]
  },
  {
   "cell_type": "markdown",
   "id": "d8782f92",
   "metadata": {},
   "source": [
    "* ### Trip duration with respect to pickup day of week"
   ]
  },
  {
   "cell_type": "code",
   "execution_count": 23,
   "id": "e8014f13",
   "metadata": {},
   "outputs": [
    {
     "data": {
      "text/html": [
       "<div>\n",
       "<style scoped>\n",
       "    .dataframe tbody tr th:only-of-type {\n",
       "        vertical-align: middle;\n",
       "    }\n",
       "\n",
       "    .dataframe tbody tr th {\n",
       "        vertical-align: top;\n",
       "    }\n",
       "\n",
       "    .dataframe thead th {\n",
       "        text-align: right;\n",
       "    }\n",
       "</style>\n",
       "<table border=\"1\" class=\"dataframe\">\n",
       "  <thead>\n",
       "    <tr style=\"text-align: right;\">\n",
       "      <th></th>\n",
       "      <th>trip_duration</th>\n",
       "    </tr>\n",
       "    <tr>\n",
       "      <th>day_of_week</th>\n",
       "      <th></th>\n",
       "    </tr>\n",
       "  </thead>\n",
       "  <tbody>\n",
       "    <tr>\n",
       "      <th>0</th>\n",
       "      <td>808.703570</td>\n",
       "    </tr>\n",
       "    <tr>\n",
       "      <th>1</th>\n",
       "      <td>852.438091</td>\n",
       "    </tr>\n",
       "    <tr>\n",
       "      <th>2</th>\n",
       "      <td>879.756417</td>\n",
       "    </tr>\n",
       "    <tr>\n",
       "      <th>3</th>\n",
       "      <td>897.621469</td>\n",
       "    </tr>\n",
       "    <tr>\n",
       "      <th>4</th>\n",
       "      <td>868.051775</td>\n",
       "    </tr>\n",
       "    <tr>\n",
       "      <th>5</th>\n",
       "      <td>776.187620</td>\n",
       "    </tr>\n",
       "    <tr>\n",
       "      <th>6</th>\n",
       "      <td>761.084998</td>\n",
       "    </tr>\n",
       "  </tbody>\n",
       "</table>\n",
       "</div>"
      ],
      "text/plain": [
       "             trip_duration\n",
       "day_of_week               \n",
       "0               808.703570\n",
       "1               852.438091\n",
       "2               879.756417\n",
       "3               897.621469\n",
       "4               868.051775\n",
       "5               776.187620\n",
       "6               761.084998"
      ]
     },
     "execution_count": 23,
     "metadata": {},
     "output_type": "execute_result"
    }
   ],
   "source": [
    "# trip duration mean with respect to the mean of day of week\n",
    "pickup_day = pd.pivot_table(train, values='trip_duration', index = ['day_of_week'], aggfunc=np.mean)\n",
    "pickup_day"
   ]
  },
  {
   "cell_type": "code",
   "execution_count": 24,
   "id": "6cfea46e",
   "metadata": {},
   "outputs": [],
   "source": [
    "# initializing new column to zero\n",
    "test['pickup_day'] = 0\n",
    "\n",
    "# For every unique entry in day of week\n",
    "for i in train['day_of_week'].unique():\n",
    "  # Assign the mean value corresponding to unique entry\n",
    "  test['pickup_day'][test['day_of_week'] == str(i)] = train['trip_duration'][train['day_of_week'] == str(i)].mean()"
   ]
  },
  {
   "cell_type": "code",
   "execution_count": 25,
   "id": "6d594a7f",
   "metadata": {},
   "outputs": [
    {
     "data": {
      "text/plain": [
       "5.320308394318112"
      ]
     },
     "execution_count": 25,
     "metadata": {},
     "output_type": "execute_result"
    }
   ],
   "source": [
    "# calculating RMSLE\n",
    "pickup_day_error = sqrt(msle(test['trip_duration'] , test['day_of_week'] ))\n",
    "pickup_day_error"
   ]
  },
  {
   "cell_type": "markdown",
   "id": "c0fd3cfb",
   "metadata": {},
   "source": [
    "* ### Trip duration with respect to passenger gruop"
   ]
  },
  {
   "cell_type": "code",
   "execution_count": 26,
   "id": "5efa9e08",
   "metadata": {},
   "outputs": [
    {
     "data": {
      "text/html": [
       "<div>\n",
       "<style scoped>\n",
       "    .dataframe tbody tr th:only-of-type {\n",
       "        vertical-align: middle;\n",
       "    }\n",
       "\n",
       "    .dataframe tbody tr th {\n",
       "        vertical-align: top;\n",
       "    }\n",
       "\n",
       "    .dataframe thead th {\n",
       "        text-align: right;\n",
       "    }\n",
       "</style>\n",
       "<table border=\"1\" class=\"dataframe\">\n",
       "  <thead>\n",
       "    <tr style=\"text-align: right;\">\n",
       "      <th></th>\n",
       "      <th>trip_duration</th>\n",
       "    </tr>\n",
       "    <tr>\n",
       "      <th>Passenger_gruop</th>\n",
       "      <th></th>\n",
       "    </tr>\n",
       "  </thead>\n",
       "  <tbody>\n",
       "    <tr>\n",
       "      <th>Large</th>\n",
       "      <td>841.553301</td>\n",
       "    </tr>\n",
       "    <tr>\n",
       "      <th>single</th>\n",
       "      <td>824.302559</td>\n",
       "    </tr>\n",
       "    <tr>\n",
       "      <th>small</th>\n",
       "      <td>875.231960</td>\n",
       "    </tr>\n",
       "  </tbody>\n",
       "</table>\n",
       "</div>"
      ],
      "text/plain": [
       "                 trip_duration\n",
       "Passenger_gruop               \n",
       "Large               841.553301\n",
       "single              824.302559\n",
       "small               875.231960"
      ]
     },
     "execution_count": 26,
     "metadata": {},
     "output_type": "execute_result"
    }
   ],
   "source": [
    "# trip duration mean with respect to the mean of Passenger gruop\n",
    "pass_count = pd.pivot_table(train, values='trip_duration', index = [\"Passenger_gruop\"], aggfunc=np.mean)\n",
    "pass_count"
   ]
  },
  {
   "cell_type": "code",
   "execution_count": 27,
   "id": "3c489df2",
   "metadata": {},
   "outputs": [],
   "source": [
    "# initializing new column to zero\n",
    "test['pass_count'] = 0\n",
    "\n",
    "# For every unique entry in passenger count\n",
    "for i in train['Passenger_gruop'].unique():\n",
    "  # Assign the mean value corresponding to unique entry\n",
    "  test['pass_count'][test['Passenger_gruop'] == str(i)] = train['trip_duration'][train['Passenger_gruop'] == str(i)].mean()"
   ]
  },
  {
   "cell_type": "code",
   "execution_count": 28,
   "id": "5fb59788",
   "metadata": {},
   "outputs": [
    {
     "data": {
      "text/plain": [
       "0.7736291715532779"
      ]
     },
     "execution_count": 28,
     "metadata": {},
     "output_type": "execute_result"
    }
   ],
   "source": [
    "# calculating RMSLE\n",
    "pass_count_error = sqrt(msle(test['trip_duration'] , test['pass_count'] ))\n",
    "pass_count_error"
   ]
  },
  {
   "cell_type": "markdown",
   "id": "4117bb87",
   "metadata": {},
   "source": [
    "* ### Trip duration with respect to both day of week and passenger gruop"
   ]
  },
  {
   "cell_type": "code",
   "execution_count": 29,
   "id": "71470258",
   "metadata": {},
   "outputs": [
    {
     "data": {
      "text/html": [
       "<div>\n",
       "<style scoped>\n",
       "    .dataframe tbody tr th:only-of-type {\n",
       "        vertical-align: middle;\n",
       "    }\n",
       "\n",
       "    .dataframe tbody tr th {\n",
       "        vertical-align: top;\n",
       "    }\n",
       "\n",
       "    .dataframe thead th {\n",
       "        text-align: right;\n",
       "    }\n",
       "</style>\n",
       "<table border=\"1\" class=\"dataframe\">\n",
       "  <thead>\n",
       "    <tr style=\"text-align: right;\">\n",
       "      <th></th>\n",
       "      <th></th>\n",
       "      <th>trip_duration</th>\n",
       "    </tr>\n",
       "    <tr>\n",
       "      <th>pickup_time_of_day</th>\n",
       "      <th>Passenger_gruop</th>\n",
       "      <th></th>\n",
       "    </tr>\n",
       "  </thead>\n",
       "  <tbody>\n",
       "    <tr>\n",
       "      <th rowspan=\"3\" valign=\"top\">Afternoon</th>\n",
       "      <th>Large</th>\n",
       "      <td>930.757714</td>\n",
       "    </tr>\n",
       "    <tr>\n",
       "      <th>single</th>\n",
       "      <td>905.238699</td>\n",
       "    </tr>\n",
       "    <tr>\n",
       "      <th>small</th>\n",
       "      <td>987.722417</td>\n",
       "    </tr>\n",
       "    <tr>\n",
       "      <th rowspan=\"3\" valign=\"top\">Evening</th>\n",
       "      <th>Large</th>\n",
       "      <td>845.706374</td>\n",
       "    </tr>\n",
       "    <tr>\n",
       "      <th>single</th>\n",
       "      <td>831.313695</td>\n",
       "    </tr>\n",
       "    <tr>\n",
       "      <th>small</th>\n",
       "      <td>876.191249</td>\n",
       "    </tr>\n",
       "    <tr>\n",
       "      <th rowspan=\"3\" valign=\"top\">Late night</th>\n",
       "      <th>Large</th>\n",
       "      <td>768.430329</td>\n",
       "    </tr>\n",
       "    <tr>\n",
       "      <th>single</th>\n",
       "      <td>763.194732</td>\n",
       "    </tr>\n",
       "    <tr>\n",
       "      <th>small</th>\n",
       "      <td>787.537247</td>\n",
       "    </tr>\n",
       "    <tr>\n",
       "      <th rowspan=\"3\" valign=\"top\">Morning</th>\n",
       "      <th>Large</th>\n",
       "      <td>829.063729</td>\n",
       "    </tr>\n",
       "    <tr>\n",
       "      <th>single</th>\n",
       "      <td>803.892112</td>\n",
       "    </tr>\n",
       "    <tr>\n",
       "      <th>small</th>\n",
       "      <td>871.147432</td>\n",
       "    </tr>\n",
       "  </tbody>\n",
       "</table>\n",
       "</div>"
      ],
      "text/plain": [
       "                                    trip_duration\n",
       "pickup_time_of_day Passenger_gruop               \n",
       "Afternoon          Large               930.757714\n",
       "                   single              905.238699\n",
       "                   small               987.722417\n",
       "Evening            Large               845.706374\n",
       "                   single              831.313695\n",
       "                   small               876.191249\n",
       "Late night         Large               768.430329\n",
       "                   single              763.194732\n",
       "                   small               787.537247\n",
       "Morning            Large               829.063729\n",
       "                   single              803.892112\n",
       "                   small               871.147432"
      ]
     },
     "execution_count": 29,
     "metadata": {},
     "output_type": "execute_result"
    }
   ],
   "source": [
    "combo = pd.pivot_table(train, values = 'trip_duration', index = ['pickup_time_of_day', 'Passenger_gruop'], aggfunc = np.mean)\n",
    "combo"
   ]
  },
  {
   "cell_type": "code",
   "execution_count": 30,
   "id": "70356015",
   "metadata": {},
   "outputs": [],
   "source": [
    "# Initiating new empty column\n",
    "test['Super_mean'] = 0\n",
    "\n",
    "# Assigning variables to strings ( to shorten code length)\n",
    "s2 = 'pickup_time_of_day'\n",
    "s1 = 'Passenger_gruop'\n",
    "\n",
    "\n",
    "# For every Unique Value in s1\n",
    "for i in test[s1].unique():\n",
    "  # For every Unique Value in s2\n",
    "  for j in test[s2].unique():\n",
    "    # Calculate and Assign mean to new column, corresponding to both unique values of s1 and s2 simultaneously\n",
    "    test['Super_mean'][(test[s1] == i) & (test[s2]==str(j))] = train['trip_duration'][(train[s1] == i) & (train[s2]==str(j))].mean()"
   ]
  },
  {
   "cell_type": "code",
   "execution_count": 31,
   "id": "f29ed8cb",
   "metadata": {},
   "outputs": [
    {
     "data": {
      "text/plain": [
       "0.7719966332369116"
      ]
     },
     "execution_count": 31,
     "metadata": {},
     "output_type": "execute_result"
    }
   ],
   "source": [
    "#calculating RMSLE\n",
    "super_mean_error =  sqrt(msle(test['trip_duration'] , test['Super_mean'] ))\n",
    "super_mean_error"
   ]
  },
  {
   "cell_type": "markdown",
   "id": "7b0e6774",
   "metadata": {},
   "source": [
    "* ### Observations:\n",
    "\n",
    "    1. The error of simple mean of trip duration hour is 0.7740223907097.\n",
    "    2. The rmsle of day of week is much high 5.320308394318112.\n",
    "    3. The error of super mean error of trip duration with respect to both day of week and passenger gruop is 0.7719966332369116\n",
    "---"
   ]
  },
  {
   "cell_type": "markdown",
   "id": "bb7d3091",
   "metadata": {},
   "source": [
    "---\n",
    "###  <font color=indigo>Task 3:</font>   \n",
    "---\n",
    "\n",
    "# K-Nearest neighbours’ model:\n",
    "---"
   ]
  },
  {
   "cell_type": "code",
   "execution_count": 32,
   "id": "c9affd1c",
   "metadata": {},
   "outputs": [],
   "source": [
    "data=sample_data.drop(['passenger_count','pickup_datetime','hour_of_day'],axis=1)"
   ]
  },
  {
   "cell_type": "code",
   "execution_count": 33,
   "id": "e3de54e8",
   "metadata": {},
   "outputs": [],
   "source": [
    "data=pd.get_dummies(data, columns=['pickup_time_of_day','vendor_id','Passenger_gruop','day_of_week'])"
   ]
  },
  {
   "cell_type": "code",
   "execution_count": 34,
   "id": "98265758",
   "metadata": {},
   "outputs": [
    {
     "data": {
      "text/html": [
       "<div>\n",
       "<style scoped>\n",
       "    .dataframe tbody tr th:only-of-type {\n",
       "        vertical-align: middle;\n",
       "    }\n",
       "\n",
       "    .dataframe tbody tr th {\n",
       "        vertical-align: top;\n",
       "    }\n",
       "\n",
       "    .dataframe thead th {\n",
       "        text-align: right;\n",
       "    }\n",
       "</style>\n",
       "<table border=\"1\" class=\"dataframe\">\n",
       "  <thead>\n",
       "    <tr style=\"text-align: right;\">\n",
       "      <th></th>\n",
       "      <th>pickup_longitude</th>\n",
       "      <th>pickup_latitude</th>\n",
       "      <th>dropoff_longitude</th>\n",
       "      <th>dropoff_latitude</th>\n",
       "      <th>trip_duration</th>\n",
       "      <th>pickup_time_of_day_Afternoon</th>\n",
       "      <th>pickup_time_of_day_Evening</th>\n",
       "      <th>pickup_time_of_day_Late night</th>\n",
       "      <th>pickup_time_of_day_Morning</th>\n",
       "      <th>vendor_id_1</th>\n",
       "      <th>...</th>\n",
       "      <th>Passenger_gruop_Large</th>\n",
       "      <th>Passenger_gruop_single</th>\n",
       "      <th>Passenger_gruop_small</th>\n",
       "      <th>day_of_week_0</th>\n",
       "      <th>day_of_week_1</th>\n",
       "      <th>day_of_week_2</th>\n",
       "      <th>day_of_week_3</th>\n",
       "      <th>day_of_week_4</th>\n",
       "      <th>day_of_week_5</th>\n",
       "      <th>day_of_week_6</th>\n",
       "    </tr>\n",
       "  </thead>\n",
       "  <tbody>\n",
       "    <tr>\n",
       "      <th>160348</th>\n",
       "      <td>-73.789062</td>\n",
       "      <td>40.642551</td>\n",
       "      <td>-73.980011</td>\n",
       "      <td>40.737331</td>\n",
       "      <td>2592</td>\n",
       "      <td>0</td>\n",
       "      <td>1</td>\n",
       "      <td>0</td>\n",
       "      <td>0</td>\n",
       "      <td>0</td>\n",
       "      <td>...</td>\n",
       "      <td>1</td>\n",
       "      <td>0</td>\n",
       "      <td>0</td>\n",
       "      <td>0</td>\n",
       "      <td>1</td>\n",
       "      <td>0</td>\n",
       "      <td>0</td>\n",
       "      <td>0</td>\n",
       "      <td>0</td>\n",
       "      <td>0</td>\n",
       "    </tr>\n",
       "    <tr>\n",
       "      <th>331951</th>\n",
       "      <td>-74.014549</td>\n",
       "      <td>40.717999</td>\n",
       "      <td>-73.980400</td>\n",
       "      <td>40.751541</td>\n",
       "      <td>836</td>\n",
       "      <td>0</td>\n",
       "      <td>0</td>\n",
       "      <td>1</td>\n",
       "      <td>0</td>\n",
       "      <td>1</td>\n",
       "      <td>...</td>\n",
       "      <td>0</td>\n",
       "      <td>1</td>\n",
       "      <td>0</td>\n",
       "      <td>1</td>\n",
       "      <td>0</td>\n",
       "      <td>0</td>\n",
       "      <td>0</td>\n",
       "      <td>0</td>\n",
       "      <td>0</td>\n",
       "      <td>0</td>\n",
       "    </tr>\n",
       "    <tr>\n",
       "      <th>644059</th>\n",
       "      <td>-73.972404</td>\n",
       "      <td>40.750896</td>\n",
       "      <td>-73.956749</td>\n",
       "      <td>40.775097</td>\n",
       "      <td>634</td>\n",
       "      <td>0</td>\n",
       "      <td>1</td>\n",
       "      <td>0</td>\n",
       "      <td>0</td>\n",
       "      <td>1</td>\n",
       "      <td>...</td>\n",
       "      <td>0</td>\n",
       "      <td>1</td>\n",
       "      <td>0</td>\n",
       "      <td>0</td>\n",
       "      <td>0</td>\n",
       "      <td>1</td>\n",
       "      <td>0</td>\n",
       "      <td>0</td>\n",
       "      <td>0</td>\n",
       "      <td>0</td>\n",
       "    </tr>\n",
       "    <tr>\n",
       "      <th>485833</th>\n",
       "      <td>-73.985931</td>\n",
       "      <td>40.762550</td>\n",
       "      <td>-73.970093</td>\n",
       "      <td>40.791500</td>\n",
       "      <td>505</td>\n",
       "      <td>0</td>\n",
       "      <td>0</td>\n",
       "      <td>1</td>\n",
       "      <td>0</td>\n",
       "      <td>0</td>\n",
       "      <td>...</td>\n",
       "      <td>0</td>\n",
       "      <td>1</td>\n",
       "      <td>0</td>\n",
       "      <td>0</td>\n",
       "      <td>0</td>\n",
       "      <td>0</td>\n",
       "      <td>0</td>\n",
       "      <td>0</td>\n",
       "      <td>1</td>\n",
       "      <td>0</td>\n",
       "    </tr>\n",
       "    <tr>\n",
       "      <th>458082</th>\n",
       "      <td>-73.951248</td>\n",
       "      <td>40.782440</td>\n",
       "      <td>-73.951691</td>\n",
       "      <td>40.792034</td>\n",
       "      <td>333</td>\n",
       "      <td>0</td>\n",
       "      <td>0</td>\n",
       "      <td>0</td>\n",
       "      <td>1</td>\n",
       "      <td>1</td>\n",
       "      <td>...</td>\n",
       "      <td>0</td>\n",
       "      <td>1</td>\n",
       "      <td>0</td>\n",
       "      <td>0</td>\n",
       "      <td>1</td>\n",
       "      <td>0</td>\n",
       "      <td>0</td>\n",
       "      <td>0</td>\n",
       "      <td>0</td>\n",
       "      <td>0</td>\n",
       "    </tr>\n",
       "    <tr>\n",
       "      <th>...</th>\n",
       "      <td>...</td>\n",
       "      <td>...</td>\n",
       "      <td>...</td>\n",
       "      <td>...</td>\n",
       "      <td>...</td>\n",
       "      <td>...</td>\n",
       "      <td>...</td>\n",
       "      <td>...</td>\n",
       "      <td>...</td>\n",
       "      <td>...</td>\n",
       "      <td>...</td>\n",
       "      <td>...</td>\n",
       "      <td>...</td>\n",
       "      <td>...</td>\n",
       "      <td>...</td>\n",
       "      <td>...</td>\n",
       "      <td>...</td>\n",
       "      <td>...</td>\n",
       "      <td>...</td>\n",
       "      <td>...</td>\n",
       "      <td>...</td>\n",
       "    </tr>\n",
       "    <tr>\n",
       "      <th>623242</th>\n",
       "      <td>-73.981461</td>\n",
       "      <td>40.755650</td>\n",
       "      <td>-74.005920</td>\n",
       "      <td>40.711689</td>\n",
       "      <td>930</td>\n",
       "      <td>0</td>\n",
       "      <td>0</td>\n",
       "      <td>1</td>\n",
       "      <td>0</td>\n",
       "      <td>0</td>\n",
       "      <td>...</td>\n",
       "      <td>0</td>\n",
       "      <td>1</td>\n",
       "      <td>0</td>\n",
       "      <td>0</td>\n",
       "      <td>0</td>\n",
       "      <td>0</td>\n",
       "      <td>0</td>\n",
       "      <td>1</td>\n",
       "      <td>0</td>\n",
       "      <td>0</td>\n",
       "    </tr>\n",
       "    <tr>\n",
       "      <th>611988</th>\n",
       "      <td>-73.991150</td>\n",
       "      <td>40.733311</td>\n",
       "      <td>-73.998665</td>\n",
       "      <td>40.732239</td>\n",
       "      <td>215</td>\n",
       "      <td>1</td>\n",
       "      <td>0</td>\n",
       "      <td>0</td>\n",
       "      <td>0</td>\n",
       "      <td>0</td>\n",
       "      <td>...</td>\n",
       "      <td>0</td>\n",
       "      <td>1</td>\n",
       "      <td>0</td>\n",
       "      <td>0</td>\n",
       "      <td>0</td>\n",
       "      <td>0</td>\n",
       "      <td>0</td>\n",
       "      <td>0</td>\n",
       "      <td>0</td>\n",
       "      <td>1</td>\n",
       "    </tr>\n",
       "    <tr>\n",
       "      <th>539063</th>\n",
       "      <td>-73.966850</td>\n",
       "      <td>40.753345</td>\n",
       "      <td>-73.790344</td>\n",
       "      <td>40.646866</td>\n",
       "      <td>1925</td>\n",
       "      <td>0</td>\n",
       "      <td>0</td>\n",
       "      <td>0</td>\n",
       "      <td>1</td>\n",
       "      <td>0</td>\n",
       "      <td>...</td>\n",
       "      <td>0</td>\n",
       "      <td>1</td>\n",
       "      <td>0</td>\n",
       "      <td>0</td>\n",
       "      <td>0</td>\n",
       "      <td>0</td>\n",
       "      <td>0</td>\n",
       "      <td>1</td>\n",
       "      <td>0</td>\n",
       "      <td>0</td>\n",
       "    </tr>\n",
       "    <tr>\n",
       "      <th>189950</th>\n",
       "      <td>-74.012321</td>\n",
       "      <td>40.701401</td>\n",
       "      <td>-73.983582</td>\n",
       "      <td>40.718578</td>\n",
       "      <td>727</td>\n",
       "      <td>0</td>\n",
       "      <td>0</td>\n",
       "      <td>0</td>\n",
       "      <td>1</td>\n",
       "      <td>0</td>\n",
       "      <td>...</td>\n",
       "      <td>0</td>\n",
       "      <td>1</td>\n",
       "      <td>0</td>\n",
       "      <td>0</td>\n",
       "      <td>0</td>\n",
       "      <td>1</td>\n",
       "      <td>0</td>\n",
       "      <td>0</td>\n",
       "      <td>0</td>\n",
       "      <td>0</td>\n",
       "    </tr>\n",
       "    <tr>\n",
       "      <th>544426</th>\n",
       "      <td>-73.984833</td>\n",
       "      <td>40.721882</td>\n",
       "      <td>-73.958000</td>\n",
       "      <td>40.732208</td>\n",
       "      <td>925</td>\n",
       "      <td>0</td>\n",
       "      <td>1</td>\n",
       "      <td>0</td>\n",
       "      <td>0</td>\n",
       "      <td>1</td>\n",
       "      <td>...</td>\n",
       "      <td>0</td>\n",
       "      <td>1</td>\n",
       "      <td>0</td>\n",
       "      <td>0</td>\n",
       "      <td>0</td>\n",
       "      <td>0</td>\n",
       "      <td>0</td>\n",
       "      <td>0</td>\n",
       "      <td>1</td>\n",
       "      <td>0</td>\n",
       "    </tr>\n",
       "  </tbody>\n",
       "</table>\n",
       "<p>10000 rows × 21 columns</p>\n",
       "</div>"
      ],
      "text/plain": [
       "        pickup_longitude  pickup_latitude  dropoff_longitude  \\\n",
       "160348        -73.789062        40.642551         -73.980011   \n",
       "331951        -74.014549        40.717999         -73.980400   \n",
       "644059        -73.972404        40.750896         -73.956749   \n",
       "485833        -73.985931        40.762550         -73.970093   \n",
       "458082        -73.951248        40.782440         -73.951691   \n",
       "...                  ...              ...                ...   \n",
       "623242        -73.981461        40.755650         -74.005920   \n",
       "611988        -73.991150        40.733311         -73.998665   \n",
       "539063        -73.966850        40.753345         -73.790344   \n",
       "189950        -74.012321        40.701401         -73.983582   \n",
       "544426        -73.984833        40.721882         -73.958000   \n",
       "\n",
       "        dropoff_latitude  trip_duration  pickup_time_of_day_Afternoon  \\\n",
       "160348         40.737331           2592                             0   \n",
       "331951         40.751541            836                             0   \n",
       "644059         40.775097            634                             0   \n",
       "485833         40.791500            505                             0   \n",
       "458082         40.792034            333                             0   \n",
       "...                  ...            ...                           ...   \n",
       "623242         40.711689            930                             0   \n",
       "611988         40.732239            215                             1   \n",
       "539063         40.646866           1925                             0   \n",
       "189950         40.718578            727                             0   \n",
       "544426         40.732208            925                             0   \n",
       "\n",
       "        pickup_time_of_day_Evening  pickup_time_of_day_Late night  \\\n",
       "160348                           1                              0   \n",
       "331951                           0                              1   \n",
       "644059                           1                              0   \n",
       "485833                           0                              1   \n",
       "458082                           0                              0   \n",
       "...                            ...                            ...   \n",
       "623242                           0                              1   \n",
       "611988                           0                              0   \n",
       "539063                           0                              0   \n",
       "189950                           0                              0   \n",
       "544426                           1                              0   \n",
       "\n",
       "        pickup_time_of_day_Morning  vendor_id_1  ...  Passenger_gruop_Large  \\\n",
       "160348                           0            0  ...                      1   \n",
       "331951                           0            1  ...                      0   \n",
       "644059                           0            1  ...                      0   \n",
       "485833                           0            0  ...                      0   \n",
       "458082                           1            1  ...                      0   \n",
       "...                            ...          ...  ...                    ...   \n",
       "623242                           0            0  ...                      0   \n",
       "611988                           0            0  ...                      0   \n",
       "539063                           1            0  ...                      0   \n",
       "189950                           1            0  ...                      0   \n",
       "544426                           0            1  ...                      0   \n",
       "\n",
       "        Passenger_gruop_single  Passenger_gruop_small  day_of_week_0  \\\n",
       "160348                       0                      0              0   \n",
       "331951                       1                      0              1   \n",
       "644059                       1                      0              0   \n",
       "485833                       1                      0              0   \n",
       "458082                       1                      0              0   \n",
       "...                        ...                    ...            ...   \n",
       "623242                       1                      0              0   \n",
       "611988                       1                      0              0   \n",
       "539063                       1                      0              0   \n",
       "189950                       1                      0              0   \n",
       "544426                       1                      0              0   \n",
       "\n",
       "        day_of_week_1  day_of_week_2  day_of_week_3  day_of_week_4  \\\n",
       "160348              1              0              0              0   \n",
       "331951              0              0              0              0   \n",
       "644059              0              1              0              0   \n",
       "485833              0              0              0              0   \n",
       "458082              1              0              0              0   \n",
       "...               ...            ...            ...            ...   \n",
       "623242              0              0              0              1   \n",
       "611988              0              0              0              0   \n",
       "539063              0              0              0              1   \n",
       "189950              0              1              0              0   \n",
       "544426              0              0              0              0   \n",
       "\n",
       "        day_of_week_5  day_of_week_6  \n",
       "160348              0              0  \n",
       "331951              0              0  \n",
       "644059              0              0  \n",
       "485833              1              0  \n",
       "458082              0              0  \n",
       "...               ...            ...  \n",
       "623242              0              0  \n",
       "611988              0              1  \n",
       "539063              0              0  \n",
       "189950              0              0  \n",
       "544426              1              0  \n",
       "\n",
       "[10000 rows x 21 columns]"
      ]
     },
     "execution_count": 34,
     "metadata": {},
     "output_type": "execute_result"
    }
   ],
   "source": [
    "data"
   ]
  },
  {
   "cell_type": "markdown",
   "id": "3c21f54d",
   "metadata": {},
   "source": [
    "* ### Segregating variables: Independent and Dependent Variables"
   ]
  },
  {
   "cell_type": "code",
   "execution_count": 35,
   "id": "6867c91a",
   "metadata": {},
   "outputs": [
    {
     "data": {
      "text/plain": [
       "((10000, 20), (10000,))"
      ]
     },
     "execution_count": 35,
     "metadata": {},
     "output_type": "execute_result"
    }
   ],
   "source": [
    "#seperating independent and dependent variables\n",
    "x = data.drop(['trip_duration'], axis=1)\n",
    "y = data['trip_duration']\n",
    "x.shape, y.shape"
   ]
  },
  {
   "cell_type": "markdown",
   "id": "2f8aff37",
   "metadata": {},
   "source": [
    "* ### Scaling the data (Using MinMax Scaler)"
   ]
  },
  {
   "cell_type": "code",
   "execution_count": 36,
   "id": "a0fc5218",
   "metadata": {},
   "outputs": [],
   "source": [
    "#scaling the data(using MinMax Scaler)\n",
    "from sklearn.preprocessing import MinMaxScaler\n",
    "scaler = MinMaxScaler()\n",
    "x_scaled = scaler.fit_transform(x)"
   ]
  },
  {
   "cell_type": "code",
   "execution_count": 37,
   "id": "5ab4b21b",
   "metadata": {},
   "outputs": [],
   "source": [
    "x = pd.DataFrame(x_scaled)"
   ]
  },
  {
   "cell_type": "code",
   "execution_count": 38,
   "id": "c87142c3",
   "metadata": {},
   "outputs": [],
   "source": [
    "train_x,test_x,train_y,test_y = train_test_split(x,y, random_state = 56)"
   ]
  },
  {
   "cell_type": "markdown",
   "id": "e33be1a7",
   "metadata": {},
   "source": [
    "* ### Implementing KNN Regressor"
   ]
  },
  {
   "cell_type": "code",
   "execution_count": 39,
   "id": "f47bcd21",
   "metadata": {},
   "outputs": [],
   "source": [
    "#importing knn regressor\n",
    "from sklearn.neighbors import KNeighborsRegressor as KNN"
   ]
  },
  {
   "cell_type": "code",
   "execution_count": 40,
   "id": "43171480",
   "metadata": {},
   "outputs": [
    {
     "name": "stdout",
     "output_type": "stream",
     "text": [
      "Test RMSLE     0.626800033313334\n"
     ]
    }
   ],
   "source": [
    "#creating instance of KNN\n",
    "reg = KNN(n_neighbors = 10)\n",
    "\n",
    "# Fitting the model\n",
    "reg.fit(train_x, train_y)\n",
    "\n",
    "# Predicting over the Train Set and calculating RMSLE\n",
    "test_predict = reg.predict(test_x)\n",
    "k = sqrt(msle(test_predict, test_y))\n",
    "print('Test RMSLE    ', k )"
   ]
  },
  {
   "cell_type": "markdown",
   "id": "4d518b52",
   "metadata": {},
   "source": [
    "* ### Elbow for Regressor"
   ]
  },
  {
   "cell_type": "code",
   "execution_count": 41,
   "id": "b09342f8",
   "metadata": {},
   "outputs": [],
   "source": [
    "def Elbow(K):\n",
    "  #initiating empty list\n",
    "    test_rmsle = []\n",
    "  \n",
    "  #training model for evey value of K\n",
    "    for i in K:\n",
    "        #Instance of KNN\n",
    "        reg = KNN(n_neighbors = i)\n",
    "        reg.fit(train_x, train_y)\n",
    "        #Appending mse value to empty list claculated using the predictions\n",
    "        tmp = reg.predict(test_x)\n",
    "        tmp = sqrt(msle(tmp,test_y))\n",
    "        test_rmsle.append(tmp)\n",
    "    \n",
    "    return test_rmsle"
   ]
  },
  {
   "cell_type": "code",
   "execution_count": 42,
   "id": "f2fb0154",
   "metadata": {},
   "outputs": [],
   "source": [
    "#Defining K range\n",
    "k = range(50,250)"
   ]
  },
  {
   "cell_type": "code",
   "execution_count": 43,
   "id": "bde9d592",
   "metadata": {},
   "outputs": [],
   "source": [
    "# calling above defined function\n",
    "test = Elbow(k)"
   ]
  },
  {
   "cell_type": "code",
   "execution_count": 44,
   "id": "a300b66c",
   "metadata": {},
   "outputs": [
    {
     "data": {
      "text/plain": [
       "Text(0.5, 1.0, 'Elbow Curve for test')"
      ]
     },
     "execution_count": 44,
     "metadata": {},
     "output_type": "execute_result"
    },
    {
     "data": {
      "image/png": "[encoded data removed]",
      "text/plain": [
       "<Figure size 640x480 with 1 Axes>"
      ]
     },
     "metadata": {},
     "output_type": "display_data"
    }
   ],
   "source": [
    "#plotting the curves\n",
    "plt.plot(k, test)\n",
    "plt.xlabel('K Neighbors')\n",
    "plt.ylabel('Test Root Mean Squared Error')\n",
    "plt.title('Elbow Curve for test')"
   ]
  },
  {
   "cell_type": "code",
   "execution_count": 45,
   "id": "3ad5bf42",
   "metadata": {},
   "outputs": [
    {
     "name": "stdout",
     "output_type": "stream",
     "text": [
      "Test RMSLE     0.6667072638786745\n"
     ]
    }
   ],
   "source": [
    "#creating instance of KNN\n",
    "reg = KNN(n_neighbors = 198)\n",
    "\n",
    "# Fitting the model\n",
    "reg.fit(train_x, train_y)\n",
    "\n",
    "# Predicting over the Train Set and calculating F1\n",
    "test_predict = reg.predict(test_x)\n",
    "k = sqrt(msle(test_predict, test_y))\n",
    "print('Test RMSLE    ', k )"
   ]
  },
  {
   "cell_type": "code",
   "execution_count": 46,
   "id": "1dab5c92",
   "metadata": {},
   "outputs": [],
   "source": [
    "knn_train_score = reg.score(train_x,train_y)"
   ]
  },
  {
   "cell_type": "code",
   "execution_count": 47,
   "id": "99af6b4f",
   "metadata": {},
   "outputs": [],
   "source": [
    "knn_test_score = reg.score(test_x,test_y)"
   ]
  },
  {
   "cell_type": "markdown",
   "id": "f7435a67",
   "metadata": {},
   "source": [
    "* ### Observations: \n",
    "    1. From elbow curve it is observed that Test RMSLE is minimum at k = 198.\n",
    "    2.The Test RMSLE is 0.6667072638786745 when value of k as 198.\n",
    "    3.Therefore, the best value of k is 198.\n",
    "---"
   ]
  },
  {
   "cell_type": "markdown",
   "id": "ef532215",
   "metadata": {},
   "source": [
    "---\n",
    "###  <font color=indigo>Task 4:</font>   \n",
    "---\n",
    "# Linear Regression Model:\n"
   ]
  },
  {
   "cell_type": "code",
   "execution_count": 48,
   "id": "5ca6a82d",
   "metadata": {},
   "outputs": [],
   "source": [
    "custom_data=sample_data.drop(['passenger_count','pickup_datetime','hour_of_day'],axis=1)"
   ]
  },
  {
   "cell_type": "code",
   "execution_count": 49,
   "id": "21219a76",
   "metadata": {},
   "outputs": [],
   "source": [
    "custom_data=pd.get_dummies(custom_data, columns=['pickup_time_of_day','vendor_id','Passenger_gruop','day_of_week'])"
   ]
  },
  {
   "cell_type": "code",
   "execution_count": 50,
   "id": "e9b95209",
   "metadata": {},
   "outputs": [
    {
     "data": {
      "text/plain": [
       "Index(['pickup_longitude', 'pickup_latitude', 'dropoff_longitude',\n",
       "       'dropoff_latitude', 'trip_duration', 'pickup_time_of_day_Afternoon',\n",
       "       'pickup_time_of_day_Evening', 'pickup_time_of_day_Late night',\n",
       "       'pickup_time_of_day_Morning', 'vendor_id_1', 'vendor_id_2',\n",
       "       'Passenger_gruop_Large', 'Passenger_gruop_single',\n",
       "       'Passenger_gruop_small', 'day_of_week_0', 'day_of_week_1',\n",
       "       'day_of_week_2', 'day_of_week_3', 'day_of_week_4', 'day_of_week_5',\n",
       "       'day_of_week_6'],\n",
       "      dtype='object')"
      ]
     },
     "execution_count": 50,
     "metadata": {},
     "output_type": "execute_result"
    }
   ],
   "source": [
    "custom_data.columns"
   ]
  },
  {
   "cell_type": "markdown",
   "id": "d0a4a72b",
   "metadata": {},
   "source": [
    "* ### Segregating variables: Independent and Dependent Variables"
   ]
  },
  {
   "cell_type": "code",
   "execution_count": 51,
   "id": "724637b5",
   "metadata": {},
   "outputs": [],
   "source": [
    "#seperating independent and dependent variables\n",
    "x=custom_data.drop(['trip_duration'],axis=1)\n",
    "y=custom_data['trip_duration']"
   ]
  },
  {
   "cell_type": "markdown",
   "id": "359484e0",
   "metadata": {},
   "source": [
    "* ### Splitting the data into train set and the test set"
   ]
  },
  {
   "cell_type": "code",
   "execution_count": 52,
   "id": "f93815d2",
   "metadata": {},
   "outputs": [],
   "source": [
    "x_train,x_test,y_train,y_test = train_test_split(x,y,test_size= 0.25, random_state=56)"
   ]
  },
  {
   "cell_type": "code",
   "execution_count": 53,
   "id": "94c0ac18",
   "metadata": {},
   "outputs": [
    {
     "data": {
      "text/plain": [
       "((7500, 20), (7500,), (2500, 20), (2500,))"
      ]
     },
     "execution_count": 53,
     "metadata": {},
     "output_type": "execute_result"
    }
   ],
   "source": [
    "x_train.shape, y_train.shape,x_test.shape,y_test.shape"
   ]
  },
  {
   "cell_type": "markdown",
   "id": "3a1b57ef",
   "metadata": {},
   "source": [
    "* ### Implementing Linear Regression"
   ]
  },
  {
   "cell_type": "code",
   "execution_count": 54,
   "id": "68db7a20",
   "metadata": {},
   "outputs": [
    {
     "data": {
      "text/plain": [
       "LinearRegression(normalize=True)"
      ]
     },
     "execution_count": 54,
     "metadata": {},
     "output_type": "execute_result"
    }
   ],
   "source": [
    "from sklearn.linear_model import LinearRegression\n",
    "# Creating instance of Linear Regresssion\n",
    "model=LinearRegression(normalize = True)\n",
    "\n",
    "# Fitting the model\n",
    "model.fit(x_train,y_train)"
   ]
  },
  {
   "cell_type": "code",
   "execution_count": 55,
   "id": "6ff82241",
   "metadata": {},
   "outputs": [
    {
     "name": "stdout",
     "output_type": "stream",
     "text": [
      "Train Root Mean Squared Log Error      0.7148384210867376\n"
     ]
    }
   ],
   "source": [
    "#predicting the train values and finding the RMSLE\n",
    "train_predict = abs(model.predict(x_train))\n",
    "k = sqrt(msle(train_predict, y_train))\n",
    "print('Train Root Mean Squared Log Error     ', k )"
   ]
  },
  {
   "cell_type": "code",
   "execution_count": 56,
   "id": "fabe7b4c",
   "metadata": {},
   "outputs": [
    {
     "name": "stdout",
     "output_type": "stream",
     "text": [
      "Test Root Mean Squared Log Error      0.7012489804725315\n"
     ]
    }
   ],
   "source": [
    "#predicting the test values and finding the RMSLE\n",
    "test_predict = abs(model.predict(x_test))\n",
    "k = sqrt(msle(test_predict, y_test))\n",
    "print('Test Root Mean Squared Log Error     ', k )"
   ]
  },
  {
   "cell_type": "markdown",
   "id": "af32ead6",
   "metadata": {},
   "source": [
    "* ### Parameters of Linear Regression"
   ]
  },
  {
   "cell_type": "code",
   "execution_count": 57,
   "id": "748bf244",
   "metadata": {},
   "outputs": [
    {
     "data": {
      "text/plain": [
       "array([ 5.67340710e+03, -4.51142611e+03,  4.52021754e+03, -2.90287132e+03,\n",
       "       -1.19088581e+16, -1.19088581e+16, -1.19088581e+16, -1.19088581e+16,\n",
       "       -2.16319583e+14, -2.16319583e+14,  1.52603107e+16,  1.52603107e+16,\n",
       "        1.52603107e+16,  1.37830132e+16,  1.37830132e+16,  1.37830132e+16,\n",
       "        1.37830132e+16,  1.37830132e+16,  1.37830132e+16,  1.37830132e+16])"
      ]
     },
     "execution_count": 57,
     "metadata": {},
     "output_type": "execute_result"
    }
   ],
   "source": [
    "#computing the coefficients of above model\n",
    "model.coef_"
   ]
  },
  {
   "cell_type": "code",
   "execution_count": 58,
   "id": "4acbbdbe",
   "metadata": {},
   "outputs": [
    {
     "data": {
      "text/plain": [
       "Text(0.5, 1.0, 'Coefficient plot')"
      ]
     },
     "execution_count": 58,
     "metadata": {},
     "output_type": "execute_result"
    },
    {
     "data": {
      "image/png": "[encoded data removed]",
      "text/plain": [
       "<Figure size 960x720 with 1 Axes>"
      ]
     },
     "metadata": {},
     "output_type": "display_data"
    }
   ],
   "source": [
    "plt.figure(figsize=(8, 6), dpi=120, facecolor='w', edgecolor='b')\n",
    "x = range(len(x_train.columns))\n",
    "y = model.coef_\n",
    "plt.bar( x, y )\n",
    "plt.xlabel( \"Variables\")\n",
    "plt.ylabel('Coefficients')\n",
    "plt.title('Coefficient plot')"
   ]
  },
  {
   "cell_type": "markdown",
   "id": "75b5f667",
   "metadata": {},
   "source": [
    "* ### Variable coefficients Graph Observations:\n",
    "    1. The sign of a linear regression coefficient tells that where there is positive or negative correlation between each independent variable and the dependent variable. \n",
    "    2. A positive coefficient indicates that as the value of independent variable increases, mean of dependent variable also tends to increase.\n",
    "    3. A negative coefficient indicates that as the value of independent variable increases, mean of dependent variable also tends to decrease.\n",
    "    4. From above graph it is observed that model does not depends upon Independent variables largely. "
   ]
  },
  {
   "cell_type": "markdown",
   "id": "7dc10f6d",
   "metadata": {},
   "source": [
    "* ### Checking assumptions of Linear Model"
   ]
  },
  {
   "cell_type": "code",
   "execution_count": 59,
   "id": "e4d672c5",
   "metadata": {},
   "outputs": [
    {
     "data": {
      "text/html": [
       "<div>\n",
       "<style scoped>\n",
       "    .dataframe tbody tr th:only-of-type {\n",
       "        vertical-align: middle;\n",
       "    }\n",
       "\n",
       "    .dataframe tbody tr th {\n",
       "        vertical-align: top;\n",
       "    }\n",
       "\n",
       "    .dataframe thead th {\n",
       "        text-align: right;\n",
       "    }\n",
       "</style>\n",
       "<table border=\"1\" class=\"dataframe\">\n",
       "  <thead>\n",
       "    <tr style=\"text-align: right;\">\n",
       "      <th></th>\n",
       "      <th>fitted values</th>\n",
       "      <th>predicted values</th>\n",
       "      <th>residuals</th>\n",
       "    </tr>\n",
       "  </thead>\n",
       "  <tbody>\n",
       "    <tr>\n",
       "      <th>509598</th>\n",
       "      <td>649</td>\n",
       "      <td>958.0</td>\n",
       "      <td>-309.0</td>\n",
       "    </tr>\n",
       "    <tr>\n",
       "      <th>257554</th>\n",
       "      <td>805</td>\n",
       "      <td>748.0</td>\n",
       "      <td>57.0</td>\n",
       "    </tr>\n",
       "    <tr>\n",
       "      <th>471057</th>\n",
       "      <td>799</td>\n",
       "      <td>816.0</td>\n",
       "      <td>-17.0</td>\n",
       "    </tr>\n",
       "    <tr>\n",
       "      <th>607900</th>\n",
       "      <td>700</td>\n",
       "      <td>766.0</td>\n",
       "      <td>-66.0</td>\n",
       "    </tr>\n",
       "    <tr>\n",
       "      <th>589875</th>\n",
       "      <td>912</td>\n",
       "      <td>494.0</td>\n",
       "      <td>418.0</td>\n",
       "    </tr>\n",
       "  </tbody>\n",
       "</table>\n",
       "</div>"
      ],
      "text/plain": [
       "        fitted values  predicted values  residuals\n",
       "509598            649             958.0     -309.0\n",
       "257554            805             748.0       57.0\n",
       "471057            799             816.0      -17.0\n",
       "607900            700             766.0      -66.0\n",
       "589875            912             494.0      418.0"
      ]
     },
     "execution_count": 59,
     "metadata": {},
     "output_type": "execute_result"
    }
   ],
   "source": [
    "# Arranging and calculating the Residuals\n",
    "residuals = pd.DataFrame({\n",
    "    'fitted values' : y_test,\n",
    "    'predicted values' : test_predict,\n",
    "})\n",
    "\n",
    "residuals['residuals'] = residuals['fitted values'] - residuals['predicted values']\n",
    "residuals.head()"
   ]
  },
  {
   "cell_type": "markdown",
   "id": "64909757",
   "metadata": {},
   "source": [
    "* ### Checking Distribution of Residuals"
   ]
  },
  {
   "cell_type": "code",
   "execution_count": 60,
   "id": "ee1d19bc",
   "metadata": {},
   "outputs": [
    {
     "data": {
      "image/png": "[encoded data removed]",
      "text/plain": [
       "<Figure size 1200x720 with 1 Axes>"
      ]
     },
     "metadata": {},
     "output_type": "display_data"
    }
   ],
   "source": [
    "plt.figure(figsize=(10, 6), dpi=120, facecolor='w', edgecolor='b')\n",
    "plt.hist(residuals.residuals, bins = 150)\n",
    "plt.xlim(-5000,5000)\n",
    "plt.xlabel('Error')\n",
    "plt.ylabel('Frequency')\n",
    "plt.title('Distribution of Error Terms')\n",
    "plt.show()"
   ]
  },
  {
   "cell_type": "markdown",
   "id": "47c93466",
   "metadata": {},
   "source": [
    "According to the Histogram, the distribution of error is nearly normal, But there are some outliers on the Higher end of the errors."
   ]
  },
  {
   "cell_type": "markdown",
   "id": "bc333216",
   "metadata": {},
   "source": [
    "* ### QQ-Plot (Is the data Normally Distributed?)"
   ]
  },
  {
   "cell_type": "code",
   "execution_count": 61,
   "id": "7ee5e04b",
   "metadata": {},
   "outputs": [
    {
     "data": {
      "image/png": "[encoded data removed]",
      "text/plain": [
       "<Figure size 600x600 with 1 Axes>"
      ]
     },
     "metadata": {},
     "output_type": "display_data"
    }
   ],
   "source": [
    "# importing the QQ-plot from the from the statsmodels\n",
    "from statsmodels.graphics.gofplots import qqplot\n",
    "\n",
    "## Plotting the QQ plot\n",
    "fig, ax = plt.subplots(figsize=(5,5) , dpi = 120)\n",
    "qqplot(residuals.residuals, line = 's' , ax = ax)\n",
    "plt.ylabel('Residual Quantiles')\n",
    "plt.xlabel('Ideal Scaled Quantiles')\n",
    "plt.title('Checking distribution of Residual Errors')\n",
    "plt.show()"
   ]
  },
  {
   "cell_type": "markdown",
   "id": "040d634e",
   "metadata": {},
   "source": [
    "The QQ-plot clearly verifies our findings from the the histogram of the residuals, the data is mostly normal in nature, but there sre some outliers on the higher as well as lower end of the Residues."
   ]
  },
  {
   "cell_type": "code",
   "execution_count": 62,
   "id": "6ce6117c",
   "metadata": {},
   "outputs": [],
   "source": [
    "linear_train_score = model.score(x_train,y_train)"
   ]
  },
  {
   "cell_type": "code",
   "execution_count": 63,
   "id": "4609ae9d",
   "metadata": {},
   "outputs": [],
   "source": [
    "linear_test_score = model.score(x_test,y_test)"
   ]
  },
  {
   "cell_type": "markdown",
   "id": "9d8e1fbe",
   "metadata": {},
   "source": [
    "* ### Observations: \n",
    "\n",
    "    1. The training rmsle is 0.7148384210867376 and testing rmsle is 0.7012489804725315\n",
    "    2. data is mostly normal in nature, but there sre some outliers on the higher end of the Residues.\n",
    "---"
   ]
  },
  {
   "cell_type": "markdown",
   "id": "2073e0b2",
   "metadata": {},
   "source": [
    "---\n",
    "###  <font color=indigo>Task 5:</font>   \n",
    "---\n",
    "# decision Tree Regression:\n"
   ]
  },
  {
   "cell_type": "code",
   "execution_count": 64,
   "id": "8fd9aa7c",
   "metadata": {},
   "outputs": [],
   "source": [
    "clean_data= sample_data"
   ]
  },
  {
   "cell_type": "code",
   "execution_count": 65,
   "id": "89c60e96",
   "metadata": {},
   "outputs": [],
   "source": [
    "clean_data=clean_data.drop(['pickup_time_of_day','pickup_datetime', 'Passenger_gruop'],axis=1)"
   ]
  },
  {
   "cell_type": "code",
   "execution_count": 66,
   "id": "0df27f46",
   "metadata": {},
   "outputs": [
    {
     "data": {
      "text/html": [
       "<div>\n",
       "<style scoped>\n",
       "    .dataframe tbody tr th:only-of-type {\n",
       "        vertical-align: middle;\n",
       "    }\n",
       "\n",
       "    .dataframe tbody tr th {\n",
       "        vertical-align: top;\n",
       "    }\n",
       "\n",
       "    .dataframe thead th {\n",
       "        text-align: right;\n",
       "    }\n",
       "</style>\n",
       "<table border=\"1\" class=\"dataframe\">\n",
       "  <thead>\n",
       "    <tr style=\"text-align: right;\">\n",
       "      <th></th>\n",
       "      <th>vendor_id</th>\n",
       "      <th>passenger_count</th>\n",
       "      <th>pickup_longitude</th>\n",
       "      <th>pickup_latitude</th>\n",
       "      <th>dropoff_longitude</th>\n",
       "      <th>dropoff_latitude</th>\n",
       "      <th>trip_duration</th>\n",
       "      <th>day_of_week</th>\n",
       "      <th>hour_of_day</th>\n",
       "    </tr>\n",
       "  </thead>\n",
       "  <tbody>\n",
       "    <tr>\n",
       "      <th>160348</th>\n",
       "      <td>2</td>\n",
       "      <td>5</td>\n",
       "      <td>-73.789062</td>\n",
       "      <td>40.642551</td>\n",
       "      <td>-73.980011</td>\n",
       "      <td>40.737331</td>\n",
       "      <td>2592</td>\n",
       "      <td>1</td>\n",
       "      <td>16</td>\n",
       "    </tr>\n",
       "    <tr>\n",
       "      <th>331951</th>\n",
       "      <td>1</td>\n",
       "      <td>1</td>\n",
       "      <td>-74.014549</td>\n",
       "      <td>40.717999</td>\n",
       "      <td>-73.980400</td>\n",
       "      <td>40.751541</td>\n",
       "      <td>836</td>\n",
       "      <td>0</td>\n",
       "      <td>5</td>\n",
       "    </tr>\n",
       "    <tr>\n",
       "      <th>644059</th>\n",
       "      <td>1</td>\n",
       "      <td>1</td>\n",
       "      <td>-73.972404</td>\n",
       "      <td>40.750896</td>\n",
       "      <td>-73.956749</td>\n",
       "      <td>40.775097</td>\n",
       "      <td>634</td>\n",
       "      <td>2</td>\n",
       "      <td>21</td>\n",
       "    </tr>\n",
       "    <tr>\n",
       "      <th>485833</th>\n",
       "      <td>2</td>\n",
       "      <td>1</td>\n",
       "      <td>-73.985931</td>\n",
       "      <td>40.762550</td>\n",
       "      <td>-73.970093</td>\n",
       "      <td>40.791500</td>\n",
       "      <td>505</td>\n",
       "      <td>5</td>\n",
       "      <td>22</td>\n",
       "    </tr>\n",
       "    <tr>\n",
       "      <th>458082</th>\n",
       "      <td>1</td>\n",
       "      <td>1</td>\n",
       "      <td>-73.951248</td>\n",
       "      <td>40.782440</td>\n",
       "      <td>-73.951691</td>\n",
       "      <td>40.792034</td>\n",
       "      <td>333</td>\n",
       "      <td>1</td>\n",
       "      <td>8</td>\n",
       "    </tr>\n",
       "  </tbody>\n",
       "</table>\n",
       "</div>"
      ],
      "text/plain": [
       "        vendor_id  passenger_count  pickup_longitude  pickup_latitude  \\\n",
       "160348          2                5        -73.789062        40.642551   \n",
       "331951          1                1        -74.014549        40.717999   \n",
       "644059          1                1        -73.972404        40.750896   \n",
       "485833          2                1        -73.985931        40.762550   \n",
       "458082          1                1        -73.951248        40.782440   \n",
       "\n",
       "        dropoff_longitude  dropoff_latitude  trip_duration  day_of_week  \\\n",
       "160348         -73.980011         40.737331           2592            1   \n",
       "331951         -73.980400         40.751541            836            0   \n",
       "644059         -73.956749         40.775097            634            2   \n",
       "485833         -73.970093         40.791500            505            5   \n",
       "458082         -73.951691         40.792034            333            1   \n",
       "\n",
       "        hour_of_day  \n",
       "160348           16  \n",
       "331951            5  \n",
       "644059           21  \n",
       "485833           22  \n",
       "458082            8  "
      ]
     },
     "execution_count": 66,
     "metadata": {},
     "output_type": "execute_result"
    }
   ],
   "source": [
    "clean_data.head()"
   ]
  },
  {
   "cell_type": "markdown",
   "id": "43ebfa84",
   "metadata": {},
   "source": [
    "* ### Segregating variables: Independent and Dependent Variables"
   ]
  },
  {
   "cell_type": "code",
   "execution_count": 67,
   "id": "82e99f67",
   "metadata": {},
   "outputs": [],
   "source": [
    "#seperating independent and dependent variables\n",
    "X = clean_data.drop([\"trip_duration\"],axis = 1)\n",
    "Y =clean_data[\"trip_duration\"]"
   ]
  },
  {
   "cell_type": "markdown",
   "id": "2e8b3b15",
   "metadata": {},
   "source": [
    "* ### Splitting the data into train set and the test set"
   ]
  },
  {
   "cell_type": "code",
   "execution_count": 68,
   "id": "c206c56a",
   "metadata": {},
   "outputs": [],
   "source": [
    "X_train,X_test,Y_train,Y_test = train_test_split(X,Y,random_state=56)"
   ]
  },
  {
   "cell_type": "code",
   "execution_count": 69,
   "id": "8c2843f2",
   "metadata": {},
   "outputs": [
    {
     "data": {
      "text/plain": [
       "((7500, 8), (7500,), (2500, 8), (2500,))"
      ]
     },
     "execution_count": 69,
     "metadata": {},
     "output_type": "execute_result"
    }
   ],
   "source": [
    "X_train.shape, Y_train.shape,X_test.shape,Y_test.shape"
   ]
  },
  {
   "cell_type": "markdown",
   "id": "bfbd3a0c",
   "metadata": {},
   "source": [
    "* ### Implementing Decision Tree Regressor"
   ]
  },
  {
   "cell_type": "code",
   "execution_count": 70,
   "id": "946133d5",
   "metadata": {},
   "outputs": [],
   "source": [
    "from sklearn.tree import DecisionTreeRegressor"
   ]
  },
  {
   "cell_type": "code",
   "execution_count": 71,
   "id": "0595d29c",
   "metadata": {},
   "outputs": [
    {
     "data": {
      "text/plain": [
       "DecisionTreeRegressor(random_state=0)"
      ]
     },
     "execution_count": 71,
     "metadata": {},
     "output_type": "execute_result"
    }
   ],
   "source": [
    "# Creating instance of Decision Tree Regressor\n",
    "regressor = DecisionTreeRegressor(random_state=0)\n",
    "\n",
    "# Fitting the model\n",
    "regressor.fit(X_train,Y_train)"
   ]
  },
  {
   "cell_type": "code",
   "execution_count": 72,
   "id": "36eecc53",
   "metadata": {},
   "outputs": [
    {
     "name": "stdout",
     "output_type": "stream",
     "text": [
      "training rmsle  0.0\n"
     ]
    }
   ],
   "source": [
    "#predicting the train values and finding the RMSLE\n",
    "train_predict = regressor.predict(X_train)\n",
    "k = sqrt(msle(train_predict,Y_train))\n",
    "print(\"training rmsle \",k)"
   ]
  },
  {
   "cell_type": "code",
   "execution_count": 73,
   "id": "b8acfb3f",
   "metadata": {},
   "outputs": [
    {
     "name": "stdout",
     "output_type": "stream",
     "text": [
      "testing rmsle  0.622662391104586\n"
     ]
    }
   ],
   "source": [
    "#predicting the test values and finding the RMSLE\n",
    "test_predict = regressor.predict(X_test)\n",
    "k = sqrt(msle(test_predict,Y_test))\n",
    "print(\"testing rmsle \",k)"
   ]
  },
  {
   "cell_type": "markdown",
   "id": "7e27a0e3",
   "metadata": {},
   "source": [
    "* ### interpretion of the variable importance"
   ]
  },
  {
   "cell_type": "code",
   "execution_count": 74,
   "id": "5627a428",
   "metadata": {},
   "outputs": [
    {
     "data": {
      "text/plain": [
       "<AxesSubplot:>"
      ]
     },
     "execution_count": 74,
     "metadata": {},
     "output_type": "execute_result"
    },
    {
     "data": {
      "image/png": "[encoded data removed]",
      "text/plain": [
       "<Figure size 640x480 with 1 Axes>"
      ]
     },
     "metadata": {},
     "output_type": "display_data"
    }
   ],
   "source": [
    "feature_importance= pd.Series(regressor.feature_importances_, index= X.columns)\n",
    "feature_importance.nlargest(20).plot(kind='barh')"
   ]
  },
  {
   "cell_type": "markdown",
   "id": "eae918ec",
   "metadata": {},
   "source": [
    "From the above graph we can conclude that the varaible \"dropoff_latitude\" and \"pickup_latitude\" has more impact on the trip duration variable than other variables."
   ]
  },
  {
   "cell_type": "code",
   "execution_count": 75,
   "id": "f6c7428e",
   "metadata": {},
   "outputs": [],
   "source": [
    "decision_train_score = regressor.score(X_train,Y_train)"
   ]
  },
  {
   "cell_type": "code",
   "execution_count": 76,
   "id": "38a4a48f",
   "metadata": {},
   "outputs": [],
   "source": [
    "decision_test_score = regressor.score(X_test,Y_test)"
   ]
  },
  {
   "cell_type": "markdown",
   "id": "fb96404c",
   "metadata": {},
   "source": [
    "* ### Observations: \n",
    "    1. The training RMSLE of decision model is 0.0 where as the testing RMSLE is  0.622662391104586.\n",
    "    2. Varaible \"dropoff_latitude\" and \"pickup_latitude\" has more impact on the trip duration variable while \"vendor_id has least impact on trip duration.\n",
    "---"
   ]
  },
  {
   "cell_type": "markdown",
   "id": "ea9d51d6",
   "metadata": {},
   "source": [
    "---\n",
    "###  <font color=indigo>Task 6:</font>   \n",
    "---\n",
    "# BAR plot:\n"
   ]
  },
  {
   "cell_type": "code",
   "execution_count": 77,
   "id": "3bb453b3",
   "metadata": {},
   "outputs": [
    {
     "data": {
      "image/png": "[encoded data removed]",
      "text/plain": [
       "<Figure size 640x480 with 1 Axes>"
      ]
     },
     "metadata": {},
     "output_type": "display_data"
    }
   ],
   "source": [
    "Train = [knn_train_score, linear_train_score, decision_train_score]\n",
    "Test = [knn_test_score, linear_test_score, decision_test_score]\n",
    "index= ['knn','linear_regression','decision_tree']\n",
    "d= pd.DataFrame({'Train': Train, 'Test': Test}, index=index)\n",
    "ax = d.plot.bar(rot=0)"
   ]
  },
  {
   "cell_type": "markdown",
   "id": "45109edb",
   "metadata": {},
   "source": [
    "From above graph it is observed that test score for KNN as well as Linear Regression is slightly higher than train score, while there is much difference between test and train scores in case of decision Tree Model."
   ]
  },
  {
   "cell_type": "code",
   "execution_count": null,
   "id": "c7a5d98d",
   "metadata": {},
   "outputs": [],
   "source": []
  }
 ],
 "metadata": {
  "kernelspec": {
   "display_name": "Python 3 (ipykernel)",
   "language": "python",
   "name": "python3"
  },
  "language_info": {
   "codemirror_mode": {
    "name": "ipython",
    "version": 3
   },
   "file_extension": ".py",
   "mimetype": "text/x-python",
   "name": "python",
   "nbconvert_exporter": "python",
   "pygments_lexer": "ipython3",
   "version": "3.9.13"
  }
 },
 "nbformat": 4,
 "nbformat_minor": 5
}
